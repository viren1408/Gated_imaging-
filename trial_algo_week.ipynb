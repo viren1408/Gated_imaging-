{
 "cells": [
  {
   "cell_type": "markdown",
   "metadata": {},
   "source": [
    "# Input Parameters:\n",
    "    1 Pulsar : J035-4510 Vela\n",
    "    2 Date : 30/12/2023\n",
    "    3 Time_IST : 3:10:00 -- MJD_input (we want the phase of pulsar)\n",
    "    4 Location: GMRT"
   ]
  },
  {
   "cell_type": "markdown",
   "metadata": {},
   "source": [
    "# Some helpful funtions "
   ]
  },
  {
   "cell_type": "code",
   "execution_count": 1,
   "metadata": {},
   "outputs": [],
   "source": [
    "from astropy.time import Time, TimeDelta\n",
    "def isttoutc(ist_datetime,offset):\n",
    "# Given date and time\n",
    "    \n",
    "    given_date_time = Time(ist_datetime, format='iso', scale='utc')\n",
    "\n",
    "    offset = 19800.0 # 5 hours and 30 minutes\n",
    "    # Time difference to subtract\n",
    "    time_difference = TimeDelta(offset, format='sec')\n",
    "\n",
    "    # Subtract the time difference\n",
    "    utc_datetime = given_date_time - time_difference\n",
    "    return utc_datetime"
   ]
  },
  {
   "cell_type": "code",
   "execution_count": 2,
   "metadata": {},
   "outputs": [],
   "source": [
    "def calculate_phase_and_frequency(mjd, tmid, rphase, coeff1, coeff2, coeff3,f0):\n",
    "    # Calculate the time difference in minutes\n",
    "    dt = ((mjd - tmid) * 1440)\n",
    "\n",
    "    # Calculate phase\n",
    "    phase = rphase + dt * 60 * f0 + coeff1 + dt * coeff2 + dt**2 * coeff3\n",
    "    \n",
    "    # Calculate frequency in Hz\n",
    "    freq = f0+ (1 / 60) * (coeff2 + 2 * dt * coeff3)\n",
    "\n",
    "    return phase, freq,dt"
   ]
  },
  {
   "cell_type": "markdown",
   "metadata": {},
   "source": [
    "Pulsar File"
   ]
  },
  {
   "cell_type": "code",
   "execution_count": 2,
   "metadata": {},
   "outputs": [
    {
     "name": "stdout",
     "output_type": "stream",
     "text": [
      "PSRJ           J0835-4510\n",
      "RAJ             08:35:20.5554429         1  0.00000479120352431585   \n",
      "DECJ           -45:10:33.38894           1  0.00005350998986295085   \n",
      "F0             11.188233045353667218     1  3.5161673561672063491e-13\n",
      "F1             -1.5463446874179076243e-11 1  7.4410865651184824406e-21\n",
      "F2             9.1268920254487347502e-22 1  7.0906746758831428687e-29\n",
      "DM             67.844558268051564053     \n",
      "\n",
      "PEPOCH         56364                       \n",
      "POSEPOCH       56364                       \n",
      "DMEPOCH        56364                       \n",
      "\n",
      "TRACK -2\n",
      "\n",
      "START          56625.539824453673024     \n",
      "FINISH         58470.515823477110526     \n",
      "\n",
      "TZRMJD         57400.488076953103693       \n",
      "TZRFRQ         1368.6020510000000741    \n",
      "TZRSITE        pks   \n",
      "TRES           1.111        \n",
      "EPHVER         2                           \n",
      "NE_SW          9.9610000000000000001       \n",
      "CLK            TT(TAI)\n",
      "MODE 1\n",
      "UNITS          TDB\n",
      "TIMEEPH        FB90\n",
      "DILATEFREQ     N\n",
      "PLANET_SHAPIRO N\n",
      "T2CMETHOD      TEMPO\n",
      "CORRECT_TROPOSPHERE  N\n",
      "EPHEM          DE435\n",
      "NITS           1\n",
      "NTOA           244\n",
      "CHI2R          3.1398 237\n"
     ]
    }
   ],
   "source": [
    "!cat J0835-4510.par #Velar Ephidermis "
   ]
  },
  {
   "cell_type": "markdown",
   "metadata": {},
   "source": [
    "# MJD(Time of Transit at observation) \n",
    "The Astrosupport from GMRT has been used to get the transit IST : http://gmrt.ncra.tifr.res.in/~astrosupp/obs_setup/rst.html\n"
   ]
  },
  {
   "cell_type": "code",
   "execution_count": 30,
   "metadata": {},
   "outputs": [
    {
     "name": "stdout",
     "output_type": "stream",
     "text": [
      "MJD_transit:60307.88034722222\n",
      "Transit_date_time_UTC:2023-12-29 21:07:42.000\n"
     ]
    }
   ],
   "source": [
    "#MJD(Time of Transit at observation)\n",
    "Time_ist = '2023-12-30 02:37:42'\n",
    "Time_utc = isttoutc(Time_ist,offset=19800.0)\n",
    "\n",
    "Transit_time = Time(Time_utc,scale='utc')\n",
    "\n",
    "MJD_transit= Transit_time.mjd #get obstime in MJD \n",
    "print(f'MJD_transit:{MJD_transit}')\n",
    "print(f'Transit_date_time_UTC:{Time_utc}')"
   ]
  },
  {
   "cell_type": "code",
   "execution_count": 28,
   "metadata": {},
   "outputs": [
    {
     "name": "stdout",
     "output_type": "stream",
     "text": [
      "MJD_observation_UTC:60307.90277777778\n",
      "observation_date_time_UTC:2023-12-29 21:40:00.000\n"
     ]
    }
   ],
   "source": [
    "#MJD time of observation \n",
    "Time_ist = '2023-12-30 03:10:00'\n",
    "Time_utc = isttoutc(Time_ist,offset=19800.0)\n",
    "observation_date = Time_utc\n",
    "observation_time = Time(observation_date,scale='utc')\n",
    "\n",
    "MJD_observation= observation_time.mjd #get obstime in MJD \n",
    "print(f'MJD_observation_UTC:{MJD_observation}')\n",
    "print(f'observation_date_time_UTC:{observation_date}')\n"
   ]
  },
  {
   "cell_type": "code",
   "execution_count": 31,
   "metadata": {},
   "outputs": [
    {
     "name": "stdout",
     "output_type": "stream",
     "text": [
      "32.300000006798655 min\n"
     ]
    }
   ],
   "source": [
    "difference_trans_obs_MJD_in_min = (MJD_observation-MJD_transit)*1440\n",
    "print(f'{difference_trans_obs_MJD_in_min} min')  "
   ]
  },
  {
   "cell_type": "code",
   "execution_count": 32,
   "metadata": {},
   "outputs": [
    {
     "name": "stdout",
     "output_type": "stream",
     "text": [
      "This program comes with ABSOLUTELY NO WARRANTY.\n",
      "This is free software, and you are welcome to redistribute it\n",
      "under conditions of GPL license.\n",
      "\n",
      "************************************************* \n",
      "Warning: you are running in tempo1 emulation mode \n",
      "************************************************* \n",
      "\u001b[0m\u001b[1m[tempo2Util.C:396] \u001b[0m\u001b[0;35mWarning: \u001b[0m[CLK3] no clock corrections available for clock UTC(gmrt) for MJD 60307.8\n",
      "\u001b[0m\u001b[1m[tempo2Util.C:396] \u001b[0m\u001b[0;35mWarning: \u001b[0m[CLK4] Trying assuming UTC = UTC(gmrt)\n",
      "\u001b[0m\u001b[1m[tempo2Util.C:396] \u001b[0m\u001b[0;35mWarning: \u001b[0m[CLK9] ... ok, using stated approximation \n",
      "\u001b[0m\u001b[1m[tempo2Util.C:401] \u001b[0m\u001b[0;35mWarning: \u001b[0m[DUP1] duplicated warnings have been suppressed.\n",
      "\u001b[0m\u001b[1m[tempo2Util.C:396] \u001b[0m\u001b[0;35mWarning: \u001b[0m[CLK10] MJD is outside of UT1 table range  (MJD 60307.840269)\n",
      "\u001b[0m\u001b[1m[tempo2Util.C:396] \u001b[0m\u001b[0;35mWarning: \u001b[0m[CLK6] Proceeding assuming UTC =  UTC(gmrt)\n"
     ]
    }
   ],
   "source": [
    "#Tempo Command \n",
    "!tempo2 -f J0835-4510.par -polyco \"60307.88034722222  60307.88034722222  10 5 1 GMRT 320\" -tempo1"
   ]
  },
  {
   "cell_type": "code",
   "execution_count": 33,
   "metadata": {},
   "outputs": [
    {
     "name": "stdout",
     "output_type": "stream",
     "text": [
      "0835-4510  29-Dec-23  200000.00   60307.83333333330            67.844624 -0.416 -7.668\n",
      "   3811469661.982121   11.188233045354 GMRT   10    5   320.000                \n",
      "  1.39108947790979706e-08 -2.85073211181204267e-01 -1.59025527755199667e-06\n",
      " -6.26260424464462072e-10  3.24520240589206457e-12\n",
      "0835-4510  29-Dec-23  201000.00   60307.84027777770            67.844624 -0.415 -8.139\n",
      "   3811476372.071014   11.188233045354 GMRT   10    5   320.000                \n",
      " -9.22872611686288725e-09 -2.85105198708113960e-01 -1.60792840718975499e-06\n",
      " -5.63808232389748896e-10 -7.58714873186081590e-14\n",
      "0835-4510  29-Dec-23  202000.00   60307.84722222210            67.844624 -0.415 -7.780\n",
      "   3811483082.159585   11.188233045354 GMRT   10    5   320.000                \n",
      " -1.05725466415063507e-09 -2.85137520797105248e-01 -1.62382201240711224e-06\n",
      " -4.40918411931255916e-10  6.08743162584846413e-12\n",
      "0835-4510  29-Dec-23  203000.00   60307.85416666660            67.844624 -0.414 -8.185\n",
      "   3811489792.247927   11.188233045354 GMRT   10    5   320.000                \n",
      "  3.10488456584996748e-09 -2.85170115893561726e-01 -1.63537254921249822e-06\n",
      " -3.71943364223785560e-10 -9.25658559413282137e-13\n",
      "0835-4510  29-Dec-23  204000.00   60307.86111111100            67.844624 -0.414 -7.974\n",
      "   3811496502.335847   11.188233045354 GMRT   10    5   320.000                \n",
      " -2.41073789359821933e-09 -2.85202930799642429e-01 -1.64522607718596310e-06\n",
      " -2.71540761550118424e-10  1.55359672900896365e-12\n",
      "0835-4510  29-Dec-23  205000.00   60307.86805555550            67.844624 -0.413 -7.960\n",
      "   3811503212.423533   11.188233045354 GMRT   10    5   320.000                \n",
      "  5.69592561100149847e-09 -2.85235907355492868e-01 -1.65146742909852591e-06\n",
      " -1.73327831732400247e-10 -1.11031226488908061e-12\n",
      "0835-4510  29-Dec-23  210000.00   60307.87499999990            67.844624 -0.413 -8.077\n",
      "   3811509922.510793   11.188233045354 GMRT   10    5   320.000                \n",
      " -1.82964450625605102e-09 -2.85268987579585354e-01 -1.65571876914466167e-06\n",
      " -8.23213585595936445e-11  2.49600661224940754e-12\n",
      "0835-4510  29-Dec-23  211000.00   60307.88194444440            67.844624 -0.412 -7.777\n",
      "   3811516632.597819   11.188233045354 GMRT   10    5   320.000                \n",
      "  5.68400370627182502e-09 -2.85302113670499180e-01 -1.65601252105057475e-06\n",
      "  3.13571509495187882e-11 -1.02591395660969480e-12\n",
      "0835-4510  29-Dec-23  212000.00   60307.88888888880            67.844624 -0.412 -8.110\n",
      "   3811523342.684416   11.188233045354 GMRT   10    5   320.000                \n",
      " -1.83511361557246850e-09 -2.85335225088756472e-01 -1.65482431524865989e-06\n",
      "  9.98774857236879723e-11  6.51553491968018320e-12\n",
      "0835-4510  29-Dec-23  213000.00   60307.89583333330            67.844624 -0.411 -7.667\n",
      "   3811530052.770780   11.188233045354 GMRT   10    5   320.000                \n",
      "  1.46054982317265661e-08 -2.85368268855119234e-01 -1.64949463961056673e-06\n",
      "  2.29186790345847401e-10  3.30880820319010976e-12\n",
      "0835-4510  29-Dec-23  214000.00   60307.90277777770            67.844624 -0.411 -8.133\n",
      "   3811536762.856716   11.188233045354 GMRT   10    5   320.000                \n",
      " -9.72918089698028823e-09 -2.85401182490145344e-01 -1.64137787605378730e-06\n",
      "  2.95211622107113556e-10  1.13667726003359661e-12\n",
      "0835-4510  29-Dec-23  215000.00   60307.90972222210            67.844624 -0.410 -7.781\n",
      "   3811543472.942325   11.188233045354 GMRT   10    5   320.000                \n",
      "  5.01315408638138222e-10 -2.85433912512916277e-01 -1.63134411649629619e-06\n",
      "  4.21763412463398293e-10  6.69956497625240499e-12\n"
     ]
    }
   ],
   "source": [
    "!cat polyco_new.dat"
   ]
  },
  {
   "cell_type": "markdown",
   "metadata": {},
   "source": [
    "# Relevant Output : \n",
    "  \n",
    "  Please note that the current polyco output contained(2nd output) a MJD which was equal to the desired MJD at observation so we can compare the phase\n",
    "\n",
    "  0835-4510  29-Dec-23  213000.00   60307.89583333320            67.844624 -0.411 -8.161\n",
    "    3811530052.770683   11.188233045354 GMRT   10    5   320.000                \n",
    "  -5.07435162082056869e-09 -2.85368268240268230e-01 -1.64980062997119053e-06\n",
    "    2.05159184736838285e-10  5.62400736183134653e-12\n",
    "    \n",
    "    \n",
    "  0835-4510  29-Dec-23  214000.00   60307.90277777770            67.844624 -0.411 -7.781\n",
    "    3811536762.856716   11.188233045354 GMRT   10    5   320.000                \n",
    "  -1.29613733244535179e-09 -2.85401183953524262e-01 -1.64106775768084792e-06\n",
    "    3.26330968597264355e-10 -1.79881031323630087e-12"
   ]
  },
  {
   "cell_type": "code",
   "execution_count": 34,
   "metadata": {},
   "outputs": [
    {
     "name": "stdout",
     "output_type": "stream",
     "text": [
      "Phase of J0835-4510 at 60307.90277777778 at 320 MHz is 3811536762.8567967 which is interplotated from TMID:60307.8958333332 having dt : 10.000000200234354\n"
     ]
    }
   ],
   "source": [
    "phase_at_MJD_observation = 3811536762.856716 #60307.90277777770 \n",
    "\n",
    "phase_at_closest_MJD_to_observation = 3811530052.770683 #60307.89583333320 \n",
    "\n",
    "f0 = 11.188233045354\n",
    "rphase = phase_at_closest_MJD_to_observation\n",
    "tmid = 60307.89583333320\n",
    "coeff1 = -5.07435162082056869e-09\n",
    "coeff2 = -2.85368268240268230e-01 \n",
    "coeff3 = -1.64980062997119053e-06\n",
    "\n",
    "phase,freq,dt = calculate_phase_and_frequency(MJD_observation,tmid,rphase,coeff1, coeff2, coeff3,f0)\n",
    "\n",
    "print(f\"Phase of J0835-4510 at {MJD_observation} at 320 MHz is {phase} which is interplotated from TMID:{tmid} having dt : {dt}\")"
   ]
  },
  {
   "cell_type": "markdown",
   "metadata": {},
   "source": [
    "The Code blocks below this are in progress and no to be referred in the current update"
   ]
  },
  {
   "cell_type": "markdown",
   "metadata": {},
   "source": [
    "0835-4510  13-Mar-13       0.00   56364.00000000000            67.844618  0.153 -8.519\n",
    "         3343.026367   11.188233045354  pks   60    5  1368.602                \n",
    " -2.17721145166213902e-09 -1.02385926753534636e-02  1.10890314856534078e-06\n",
    " -3.43592390363715034e-10 -2.11309512519152620e-12"
   ]
  },
  {
   "cell_type": "markdown",
   "metadata": {},
   "source": [
    "Finding the phase 0.0 MJD (It is away from TMID)"
   ]
  },
  {
   "cell_type": "code",
   "execution_count": 11,
   "metadata": {},
   "outputs": [
    {
     "name": "stdout",
     "output_type": "stream",
     "text": [
      "Phase of J0835-4510 at 56363.996541632165 is -2.5039543839376285e-06 which is interplotated from TMID:56364.0 having dt : -4.9800496827811\n"
     ]
    }
   ],
   "source": [
    "phase_at_MJD_observation = 3811536762.856716\n",
    "\n",
    "phase_at_closest_MJD_to_observation =  3343.026367 \n",
    "\n",
    "mjd_in = 56363.996541632165\n",
    "f0 = 11.188233045354\n",
    "rphase = phase_at_closest_MJD_to_observation\n",
    "tmid = 56364.00000000000 \n",
    "coeff1 = -2.17721145166213902e-09\n",
    "coeff2 = -1.02385926753534636e-02 \n",
    "coeff3 = 1.10890314856534078e-06\n",
    "\n",
    "phase,freq,dt = calculate_phase_and_frequency(mjd_in,tmid,rphase,coeff1, coeff2, coeff3,f0)\n",
    "\n",
    "print(f\"Phase of J0835-4510 at {mjd_in} is {phase} which is interplotated from TMID:{tmid} having dt : {dt}\")"
   ]
  },
  {
   "cell_type": "code",
   "execution_count": 12,
   "metadata": {},
   "outputs": [
    {
     "data": {
      "text/plain": [
       "-2.2380248729064639e-07"
      ]
     },
     "execution_count": 12,
     "metadata": {},
     "output_type": "execute_result"
    }
   ],
   "source": [
    "-2.5039543839376285e-06/11.188233045354"
   ]
  },
  {
   "cell_type": "markdown",
   "metadata": {},
   "source": [
    "0900-3144  17-Jun-09       0.00   54999.99999999990            62.585897  0.619 -7.088\n",
    "        -5455.503312   90.011841925172 AXIS   60    5  1440.000 0.2688   0.0534\n",
    "  7.93209302820642315e-08 -6.09967098486254189e-01 -1.60419608060829332e-05\n",
    "  1.95943255712137684e-08 -1.61621252490747432e-11"
   ]
  },
  {
   "cell_type": "code",
   "execution_count": 27,
   "metadata": {},
   "outputs": [
    {
     "name": "stdout",
     "output_type": "stream",
     "text": [
      "Phase of J0835-4510 at 52715.46745956683 is -17938148218.11908 which is interplotated from TMID:54999.9999999999 having dt : -3289726.858223614\n"
     ]
    }
   ],
   "source": [
    "phase_at_closest_MJD_to_observation =  318550.476117 \n",
    "\n",
    "mjd_in = 52715.467459566835657\n",
    "f0 = 90.011841925172\n",
    "rphase = phase_at_closest_MJD_to_observation\n",
    "tmid = 54999.99999999990  \n",
    "coeff1 = 7.93209302820642315e-08\n",
    "coeff2 = -6.09967098486254189e-01 \n",
    "coeff3 = -1.60419608060829332e-05\n",
    "\n",
    "phase,freq,dt = calculate_phase_and_frequency(mjd_in,tmid,rphase,coeff1, coeff2, coeff3,f0)\n",
    "\n",
    "print(f\"Phase of J0835-4510 at {mjd_in} is {phase} which is interplotated from TMID:{tmid} having dt : {dt}\")"
   ]
  },
  {
   "cell_type": "code",
   "execution_count": 26,
   "metadata": {},
   "outputs": [
    {
     "name": "stdout",
     "output_type": "stream",
     "text": [
      "Phase of J0835-4510 at 54999.95903491644 is 2.2790350008135285e-05 which is interplotated from TMID:54999.9999999999 having dt : -58.98972017574124\n"
     ]
    }
   ],
   "source": [
    "\n",
    "phase_at_closest_MJD_to_observation =  318550.476117 \n",
    "\n",
    "mjd_in = 54999.95903491644\n",
    "f0 = 90.011841925172\n",
    "rphase = phase_at_closest_MJD_to_observation\n",
    "tmid = 54999.99999999990  \n",
    "coeff1 = 7.93209302820642315e-08\n",
    "coeff2 = -6.09967098486254189e-01 \n",
    "coeff3 = -1.60419608060829332e-05\n",
    "\n",
    "phase,freq,dt = calculate_phase_and_frequency(mjd_in,tmid,rphase,coeff1, coeff2, coeff3,f0)\n",
    "\n",
    "print(f\"Phase of J0835-4510 at {mjd_in} is {phase} which is interplotated from TMID:{tmid} having dt : {dt}\")"
   ]
  },
  {
   "cell_type": "code",
   "execution_count": 24,
   "metadata": {},
   "outputs": [
    {
     "data": {
      "text/plain": [
       "4.488180156328652e-05"
      ]
     },
     "execution_count": 24,
     "metadata": {},
     "output_type": "execute_result"
    }
   ],
   "source": [
    "0.004039893627631484/90.011841925172"
   ]
  },
  {
   "cell_type": "code",
   "execution_count": 25,
   "metadata": {},
   "outputs": [
    {
     "data": {
      "text/plain": [
       "54999.95903491644"
      ]
     },
     "execution_count": 25,
     "metadata": {},
     "output_type": "execute_result"
    }
   ],
   "source": [
    "54999.95903491696- (4.488180156328652e-05/(60*1440))"
   ]
  },
  {
   "cell_type": "markdown",
   "metadata": {},
   "source": []
  },
  {
   "cell_type": "code",
   "execution_count": 10,
   "metadata": {},
   "outputs": [
    {
     "data": {
      "text/plain": [
       "56363.996541632165"
      ]
     },
     "execution_count": 10,
     "metadata": {},
     "output_type": "execute_result"
    }
   ],
   "source": [
    "56363.996541684945-(0.004559880991057786/(60*1440))"
   ]
  },
  {
   "cell_type": "markdown",
   "metadata": {},
   "source": [
    "Trial for prediction of desired MJD in polyco output (more tests needed)"
   ]
  },
  {
   "cell_type": "code",
   "execution_count": 37,
   "metadata": {},
   "outputs": [
    {
     "name": "stdout",
     "output_type": "stream",
     "text": [
      "60307.6875\n"
     ]
    }
   ],
   "source": [
    "mjd1_gmrt=60307.697421938006 #desired output\n",
    "mjd1_gmrt_frac = round(48.0 * (mjd1_gmrt - int(mjd1_gmrt))) / 48.0\n",
    "mjd1_gmrt_frac_new = round(48.0 * (mjd1_gmrt - int(mjd1_gmrt))) / 48.0\n",
    "ntmp1 = int(mjd1_gmrt_frac * 1.0e8)\n",
    "ntmp2 = int((mjd1_gmrt_frac * 1.0e8 - ntmp1) * 100.0)\n",
    "mjd1 = ntmp2 * 1e-10 + ntmp1 * 1.0e-8\n",
    "mjd1_gmrt_frac=mjd1\n",
    "mjd1_gmrt_round = int(mjd1_gmrt) + mjd1_gmrt_frac#round(48.0 * (mjd1_gmrt - int(mjd1_gmrt))) / 48.0\n",
    "mjd1_gmrt_round_new = int(mjd1_gmrt) + mjd1_gmrt_frac_new\n",
    "print(mjd1_gmrt_round_new)\n",
    "\n"
   ]
  },
  {
   "cell_type": "code",
   "execution_count": 24,
   "metadata": {},
   "outputs": [
    {
     "data": {
      "text/plain": [
       "10.000000011641532"
      ]
     },
     "execution_count": 24,
     "metadata": {},
     "output_type": "execute_result"
    }
   ],
   "source": [
    "(60307.90277777778-60307.89583333333)*1440 #difference in min"
   ]
  },
  {
   "cell_type": "code",
   "execution_count": 35,
   "metadata": {},
   "outputs": [
    {
     "name": "stdout",
     "output_type": "stream",
     "text": [
      "This program comes with ABSOLUTELY NO WARRANTY.\n",
      "This is free software, and you are welcome to redistribute it\n",
      "under conditions of GPL license.\n",
      "\n",
      "************************************************* \n",
      "Warning: you are running in tempo1 emulation mode \n",
      "************************************************* \n",
      "\u001b[0m\u001b[1m[tempo2Util.C:396] \u001b[0m\u001b[0;35mWarning: \u001b[0m[CLK3] no clock corrections available for clock UTC(gmrt) for MJD 60307.8\n",
      "\u001b[0m\u001b[1m[tempo2Util.C:396] \u001b[0m\u001b[0;35mWarning: \u001b[0m[CLK4] Trying assuming UTC = UTC(gmrt)\n",
      "\u001b[0m\u001b[1m[tempo2Util.C:396] \u001b[0m\u001b[0;35mWarning: \u001b[0m[CLK9] ... ok, using stated approximation \n",
      "\u001b[0m\u001b[1m[tempo2Util.C:401] \u001b[0m\u001b[0;35mWarning: \u001b[0m[DUP1] duplicated warnings have been suppressed.\n",
      "\u001b[0m\u001b[1m[tempo2Util.C:396] \u001b[0m\u001b[0;35mWarning: \u001b[0m[CLK10] MJD is outside of UT1 table range  (MJD 60307.798602)\n",
      "\u001b[0m\u001b[1m[tempo2Util.C:396] \u001b[0m\u001b[0;35mWarning: \u001b[0m[CLK6] Proceeding assuming UTC =  UTC(gmrt)\n"
     ]
    }
   ],
   "source": [
    "!tempo2 -f J0835-4510.par -polyco \"60307.697421938006 60307.697421938006 10 5 2 GMRT 320\" -tempo1"
   ]
  },
  {
   "cell_type": "code",
   "execution_count": 36,
   "metadata": {},
   "outputs": [
    {
     "name": "stdout",
     "output_type": "stream",
     "text": [
      "0835-4510  29-Dec-23  190000.00   60307.79166666660            67.844624 -0.418 -7.667\n",
      "   3811429401.441963   11.188233045354 GMRT   10    5   320.000                \n",
      "  1.84862641574367589e-08 -2.84891323516309691e-01 -1.42499445274617452e-06\n",
      " -1.15501346281816550e-09 -2.09925360119294270e-12\n",
      "0835-4510  29-Dec-23  191000.00   60307.79861111100            67.844624 -0.418 -8.085\n",
      "   3811436111.532690   11.188233045354 GMRT   10    5   320.000                \n",
      " -1.53351931178803808e-09 -2.84920176092655020e-01 -1.45893548262236686e-06\n",
      " -1.09795154231774865e-09 -1.91281364778666167e-12\n",
      "0835-4510  29-Dec-23  192000.00   60307.80555555540            67.844624 -0.418 -7.770\n",
      "   3811442821.623125   11.188233045354 GMRT   10    5   320.000                \n",
      " -6.27557149185845511e-09 -2.84949683525734077e-01 -1.49142811803467622e-06\n",
      " -9.92348155189048760e-10  7.29763834014796089e-12\n",
      "0835-4510  29-Dec-23  193000.00   60307.81249999990            67.844624 -0.417 -8.084\n",
      "   3811449531.713359   11.188233045354 GMRT   10    5   320.000                \n",
      " -5.16045345256416163e-09 -2.84979792510482555e-01 -1.51963767744780134e-06\n",
      " -9.17353127419251420e-10  2.41383814510254984e-12\n",
      "0835-4510  29-Dec-23  194000.00   60307.81944444430            67.844624 -0.417 -7.968\n",
      "   3811456241.803193   11.188233045354 GMRT   10    5   320.000                \n",
      " -9.39106464108062671e-09 -2.85010451899156247e-01 -1.54623160835010943e-06\n",
      " -8.32231877357486364e-10  4.95338146035811726e-12\n",
      "0835-4510  29-Dec-23  195000.00   60307.82638888880            67.844624 -0.416 -7.977\n",
      "   3811462951.892814   11.188233045354 GMRT   10    5   320.000                \n",
      "  2.36448401270646958e-09 -2.85041609992461142e-01 -1.56945752589725390e-06\n",
      " -7.35872637212349986e-10  3.43673758106748932e-12\n",
      "0835-4510  29-Dec-23  200000.00   60307.83333333320            67.844624 -0.416 -8.153\n",
      "   3811469661.982024   11.188233045354 GMRT   10    5   320.000                \n",
      " -4.87314135288134594e-09 -2.85073210335824168e-01 -1.59051644266519360e-06\n",
      " -6.51140809140647311e-10  4.75989949507453937e-12\n",
      "0835-4510  29-Dec-23  201000.00   60307.84027777770            67.844624 -0.415 -7.785\n",
      "   3811476372.071014   11.188233045354 GMRT   10    5   320.000                \n",
      " -8.95963970983654212e-10 -2.85105200560441974e-01 -1.60767867774853585e-06\n",
      " -5.28405449619474414e-10 -2.33565360243632489e-12\n",
      "0835-4510  29-Dec-23  202000.00   60307.84722222210            67.844624 -0.415 -8.125\n",
      "   3811483082.159585   11.188233045354 GMRT   10    5   320.000                \n",
      "  7.38872974998308571e-09 -2.85137519342597845e-01 -1.62351294043171123e-06\n",
      " -4.71908738103791583e-10  3.15844016863403751e-12\n",
      "0835-4510  29-Dec-23  203000.00   60307.85416666660            67.844624 -0.414 -7.668\n",
      "   3811489792.247927   11.188233045354 GMRT   10    5   320.000                \n",
      "  1.96297998576666087e-08 -2.85170116451652245e-01 -1.63539483659112645e-06\n",
      " -3.48537560353570914e-10 -8.51411819205718401e-13\n",
      "0835-4510  29-Dec-23  204000.00   60307.86111111100            67.844624 -0.414 -8.126\n",
      "   3811496502.335847   11.188233045354 GMRT   10    5   320.000                \n",
      "  1.05296695378691039e-09 -2.85202930320276105e-01 -1.64478144416662021e-06\n",
      " -2.87304130641394527e-10 -1.94038984587691247e-12\n",
      "0835-4510  29-Dec-23  205000.00   60307.86805555540            67.844624 -0.413 -7.770\n",
      "   3811503212.423437   11.188233045354 GMRT   10    5   320.000                \n",
      " -9.05433029364351465e-09 -2.85235908314805997e-01 -1.65232058710485154e-06\n",
      " -1.61062228454278678e-10  6.11237320876484087e-12\n",
      "0835-4510  29-Dec-23  210000.00   60307.87499999990            67.844624 -0.413 -8.075\n",
      "   3811509922.510793   11.188233045354 GMRT   10    5   320.000                \n",
      " -3.81105209782377242e-09 -2.85268987575561184e-01 -1.65551212896441098e-06\n",
      " -8.23604933587136136e-11  2.26690896027788540e-12\n",
      "0835-4510  29-Dec-23  211000.00   60307.88194444430            67.844624 -0.412 -7.963\n",
      "   3811516632.597722   11.188233045354 GMRT   10    5   320.000                \n",
      " -8.85038476021516033e-09 -2.85302112301303090e-01 -1.65680068120332708e-06\n",
      "  1.52356972557823251e-11  5.41877565941022311e-12\n",
      "0835-4510  29-Dec-23  212000.00   60307.88888888880            67.844624 -0.412 -7.965\n",
      "   3811523342.684416   11.188233045354 GMRT   10    5   320.000                \n",
      "  1.85820915919519661e-09 -2.85335225620371113e-01 -1.65440460152354710e-06\n",
      "  1.15794979607641572e-10  3.22848173506520213e-12\n",
      "0835-4510  29-Dec-23  213000.00   60307.89583333320            67.844624 -0.411 -8.161\n",
      "   3811530052.770683   11.188233045354 GMRT   10    5   320.000                \n",
      " -5.07435162082056869e-09 -2.85368268240268230e-01 -1.64980062997119053e-06\n",
      "  2.05159184736838285e-10  5.62400736183134653e-12\n",
      "0835-4510  29-Dec-23  214000.00   60307.90277777770            67.844624 -0.411 -7.781\n",
      "   3811536762.856716   11.188233045354 GMRT   10    5   320.000                \n",
      " -1.29613733244535179e-09 -2.85401183953524262e-01 -1.64106775768084792e-06\n",
      "  3.26330968597264355e-10 -1.79881031323630087e-12\n",
      "0835-4510  29-Dec-23  215000.00   60307.90972222210            67.844624 -0.410 -8.133\n",
      "   3811543472.942325   11.188233045354 GMRT   10    5   320.000                \n",
      "  8.95301118264032884e-09 -2.85433911046128252e-01 -1.63103419741058460e-06\n",
      "  3.90661528575959891e-10  3.75775422487907758e-12\n",
      "0835-4510  29-Dec-23  220000.00   60307.91666666660            67.844624 -0.410 -7.667\n",
      "   3811550183.027704   11.188233045354 GMRT   10    5   320.000                \n",
      "  2.32120383578289447e-08 -2.85466398076270722e-01 -1.61692167131972876e-06\n",
      "  5.21231495687729344e-10 -5.98043910036848473e-13\n",
      "0835-4510  29-Dec-23  221000.00   60307.92361111100            67.844624 -0.410 -8.131\n",
      "   3811556893.112663   11.188233045354 GMRT   10    5   320.000                \n",
      "  2.55120455006376471e-09 -2.85498582431585823e-01 -1.60037914629531943e-06\n",
      "  5.78643542440118009e-10 -2.17157427889881308e-12\n",
      "0835-4510  29-Dec-23  222000.00   60307.93055555540            67.844624 -0.409 -7.778\n",
      "   3811563603.197302   11.188233045354 GMRT   10    5   320.000                \n",
      " -6.09981062627734848e-09 -2.85530413570709407e-01 -1.58204820938925285e-06\n",
      "  6.98090118982701987e-10  5.38413607375471743e-12\n",
      "0835-4510  29-Dec-23  223000.00   60307.93749999990            67.844624 -0.409 -8.068\n",
      "   3811570313.281722   11.188233045354 GMRT   10    5   320.000                \n",
      " -1.83113476002097955e-09 -2.85561830795588778e-01 -1.55947011298044938e-06\n",
      "  7.71009526217173691e-10  7.57852477994980237e-13\n",
      "0835-4510  29-Dec-23  224000.00   60307.94444444430            67.844624 -0.408 -7.960\n",
      "   3811577023.365732   11.188233045354 GMRT   10    5   320.000                \n",
      " -7.64697626330063622e-09 -2.85592782438146287e-01 -1.53544389894382927e-06\n",
      "  8.66586119713935701e-10  5.68011958974431225e-12\n",
      "0835-4510  29-Dec-23  225000.00   60307.95138888880            67.844624 -0.408 -7.969\n",
      "   3811583733.449533   11.188233045354 GMRT   10    5   320.000                \n",
      "  2.67295853797585714e-09 -2.85623213904028228e-01 -1.50774147659608301e-06\n",
      "  9.53924271444492214e-10  3.32635481759797410e-12\n"
     ]
    }
   ],
   "source": [
    "!cat polyco_new.dat"
   ]
  },
  {
   "cell_type": "markdown",
   "metadata": {},
   "source": [
    "Relevant Output : \n",
    "0835-4510  29-Dec-23  214000.00   60307.90277777770            67.844624 -0.411 -8.133\n",
    "   3811536762.856716   11.188233045354 GMRT   10    5   320.000                \n",
    " -9.72918089698028823e-09 -2.85401182490145344e-01 -1.64137787605378730e-06\n",
    "  2.95211622107113556e-10  1.13667726003359661e-12\n"
   ]
  },
  {
   "cell_type": "code",
   "execution_count": null,
   "metadata": {},
   "outputs": [],
   "source": []
  }
 ],
 "metadata": {
  "kernelspec": {
   "display_name": "base",
   "language": "python",
   "name": "python3"
  },
  "language_info": {
   "codemirror_mode": {
    "name": "ipython",
    "version": 3
   },
   "file_extension": ".py",
   "mimetype": "text/x-python",
   "name": "python",
   "nbconvert_exporter": "python",
   "pygments_lexer": "ipython3",
   "version": "3.11.4"
  }
 },
 "nbformat": 4,
 "nbformat_minor": 2
}
