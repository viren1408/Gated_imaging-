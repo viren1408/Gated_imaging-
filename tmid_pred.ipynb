{
 "cells": [
  {
   "cell_type": "markdown",
   "metadata": {},
   "source": [
    "Analysis of the TEMPO Polyco.C code\n",
    "\n",
    "We try to figure out the following things:\n",
    "1. How does polyco decide the MJD values for phase prediction and how does it depend on the input paramters ?\n",
    "2. To crosscheck the LST and HA values calculated by tempo with astropy \n",
    "3. Can we adjust the imput paramters such that we can get polyco to give phase at a particular value?"
   ]
  },
  {
   "cell_type": "code",
   "execution_count": 1,
   "metadata": {},
   "outputs": [
    {
     "data": {
      "text/plain": [
       "60303.3584375"
      ]
     },
     "execution_count": 1,
     "metadata": {},
     "output_type": "execute_result"
    }
   ],
   "source": [
    "#Basic MJD and Date Code blocks \n",
    "from astropy.coordinates import EarthLocation, AltAz, SkyCoord\n",
    "from astropy.time import Time\n",
    "import astropy.units as u\n",
    "observation_date = '2023-12-25T08:36:09'\n",
    "observation_time = Time(observation_date,scale='utc')\n",
    "observation_time.mjd #get obstime in MJD "
   ]
  },
  {
   "cell_type": "code",
   "execution_count": 2,
   "metadata": {},
   "outputs": [
    {
     "data": {
      "text/plain": [
       "datetime.datetime(2023, 12, 20, 15, 59, 59, 999999)"
      ]
     },
     "execution_count": 2,
     "metadata": {},
     "output_type": "execute_result"
    }
   ],
   "source": [
    "#This is just the opposite (lazy)\n",
    "mjd = 60298.66666666666\n",
    "time_object = Time(mjd, format='mjd')\n",
    "datetime_object = time_object.datetime\n",
    "datetime_object #Date and time : UTC "
   ]
  },
  {
   "cell_type": "markdown",
   "metadata": {},
   "source": [
    "The Following code is a python alternative of the polyco function that calculates the TMID_start value. This was done to analyse the parameters that are actually required to decide the TMID_start value and I could explore what other paramters was tempo calculating and how it was arriving to certain results. "
   ]
  },
  {
   "cell_type": "code",
   "execution_count": 9,
   "metadata": {},
   "outputs": [
    {
     "name": "stdout",
     "output_type": "stream",
     "text": [
      "MJD_gmrt_round: 60297.6875\n"
     ]
    }
   ],
   "source": [
    "#Working Code that just recalculates mjd_start value from polyco \n",
    "\n",
    "import datetime\n",
    "import math\n",
    "\n",
    "# Given values\n",
    "#transit_lst_str = \"08:36:09\" #LST transit at afmjd\n",
    "ra_str = \"08h35m20.5554429s\" #RA of Pulsar \n",
    "afmjd =  60298#60268 #60297  # Example value for afmjd(MJD_start)\n",
    "maxha = 6 #  maxha \n",
    "tspan = 60  #  tspan (min)\n",
    "\n",
    "# Observatory coordinates  1656342.30    5797947.77 \n",
    "obs_x =  1656342.30  # Replace with the actual x-coordinate\n",
    "obs_y = 5797947.77 # Replace with the actual y-coordinate\n",
    "\n",
    "# Convert transit LST to datetime\n",
    "#transit_lst_time = datetime.datetime.strptime(transit_lst_str, \"%H:%M:%S\").time()\n",
    "\n",
    "# Convert RA to hours\n",
    "ra_hours = (8 + (35/60) + (20.5554429/3600))\n",
    "\n",
    "# Conversion of UT into local sidereal time\n",
    "solsid = 1.002737909\n",
    "\n",
    "#  LST transit in hours (taken from the NCRA transit time calculator)\n",
    "#hlst_gmrt = transit_lst_time.hour + transit_lst_time.minute/60 + transit_lst_time.second/3600 \n",
    "\n",
    "# Calculate observatory longitude\n",
    "alng = math.atan2(-obs_y, obs_x)\n",
    "\n",
    "# Conversion of UT into local sidereal time\n",
    "solsid = 1.002737909\n",
    "hlst = 24.0 * ((solsid * afmjd + 0.154374 - alng / (2 * math.pi)) % 1.0)\n",
    "\n",
    " \n",
    "rax = int(ra_hours) + int((ra_hours - int(ra_hours)) * 60.0 + 2) / 60.0 #RA in hours at epoch\n",
    "\n",
    "wait_gmrt = (rax - hlst ) / solsid #GMRT # Calculate wait : Local hour angle\n",
    "\n",
    "# Add a day if wait is not in range #This is polyco criterion which takes care of rise and setting of source\n",
    "if wait_gmrt < -maxha:\n",
    "    wait_gmrt += 24.0/solsid\n",
    "\n",
    "# Calculate MJD1\n",
    "mjd1_gmrt = afmjd + (wait_gmrt - (maxha)) / 24.0 + (tspan / (2.0 * 1440.0)) \n",
    "#mjd1_gmrt_new = afmjd + ((rax - 24.0 * ((solsid * afmjd + 0.154374 - alng / (2 * math.pi)) % 1.0)) - maxha) / 24.0 + tspan / (2.0 * 1440.0)\n",
    "\n",
    "mjd1_gmrt_frac = round(48.0 * (mjd1_gmrt - int(mjd1_gmrt))) / 48.0\n",
    "mjd1_gmrt_frac_new = round(48.0 * (mjd1_gmrt - int(mjd1_gmrt))) / 48.0\n",
    "ntmp1 = int(mjd1_gmrt_frac * 1.0e8)\n",
    "ntmp2 = int((mjd1_gmrt_frac * 1.0e8 - ntmp1) * 100.0)\n",
    "mjd1 = ntmp2 * 1e-10 + ntmp1 * 1.0e-8\n",
    "mjd1_gmrt_frac=mjd1\n",
    "mjd1_gmrt_round = int(mjd1_gmrt) + mjd1_gmrt_frac#round(48.0 * (mjd1_gmrt - int(mjd1_gmrt))) / 48.0\n",
    "#mjd1_gmrt_round_new = int(mjd1_gmrt_new) + mjd1_gmrt_frac_new\n",
    "print(f\"MJD_gmrt_round: {mjd1_gmrt_round}\")"
   ]
  },
  {
   "cell_type": "markdown",
   "metadata": {},
   "source": [
    "Test 1 : Validity and Substitution of LST \n",
    "\n",
    "From the above code we can see that lst is calulated in the parameter hlst which is further used in the calculation local hour hangle and finally to get the tmid_mjd_start. "
   ]
  },
  {
   "cell_type": "code",
   "execution_count": 6,
   "metadata": {},
   "outputs": [
    {
     "name": "stdout",
     "output_type": "stream",
     "text": [
      "Latitude: 19.093003 degrees\n",
      "Longitude: 74.056561 degrees\n",
      "Elevation: 497.00 meters\n",
      "Local Sidereal Time: 10.825430 hourangle hours\n",
      "hlst given by polyco: 10.812565245141741 hrs\n",
      "Transit LST from astropy: 8.589043178583333\n"
     ]
    }
   ],
   "source": [
    "#This is to check the LST at GMRT at some afmjd #This code block is used to compare the hlst values with the lst from astropy \n",
    "\n",
    "\n",
    "#afmjd\n",
    "\n",
    "afmjd = 60298\n",
    "\n",
    "# Given geocentric coordinates GMRT from observatory.dat in tempo2 \n",
    "obs_x = 1656342.30 * u.m  # x-coordinate in meters\n",
    "obs_y = 5797947.77 * u.m  # y-coordinate in meters\n",
    "obs_z = 2073243.16 * u.m  # z-coordinate in meters\n",
    "\n",
    "\n",
    "# Create EarthLocation object from geocentric coordinates\n",
    "obs_location = EarthLocation.from_geocentric(x=obs_x, y=obs_y, z=obs_z)\n",
    "\n",
    "# Create Astropy Time object (assuming afmjd is the Modified Julian Date at the start of observations)\n",
    "time_utc = Time(afmjd, format='mjd', scale='utc')\n",
    "\n",
    "# Calculate LST using Astropy\n",
    "lst = time_utc.sidereal_time('mean', longitude=obs_location.lon)\n",
    "\n",
    "# Get geodetic coordinates\n",
    "latitude = obs_location.lat.deg\n",
    "longitude = obs_location.lon.deg\n",
    "elevation = obs_location.height.value\n",
    "\n",
    "# Calculate Hour Angle at transit\n",
    "ha_at_transit = lst.hour - ra_hours\n",
    "\n",
    "# Normalize Hour Angle\n",
    "transit_lst = lst.hour - ha_at_transit\n",
    "#transit_lst = transit_lst.wrap_at(24 * u.hourangle)  # Normalize to [0, 24) hours\n",
    "\n",
    "\n",
    "# Print the results\n",
    "print(f\"Latitude: {latitude:.6f} degrees\")\n",
    "print(f\"Longitude: {longitude:.6f} degrees\")\n",
    "print(f\"Elevation: {elevation:.2f} meters\")\n",
    "print(f\"Local Sidereal Time: {lst:.6f} hours\")\n",
    "print(f\"hlst given by polyco: {hlst} hrs\")\n",
    "#print(f\"hlst_gmrt from GMRT transit:{hlst_gmrt} hrs\")\n",
    "print(f\"Transit LST from astropy: {transit_lst}\")"
   ]
  },
  {
   "cell_type": "code",
   "execution_count": 142,
   "metadata": {},
   "outputs": [
    {
     "name": "stdout",
     "output_type": "stream",
     "text": [
      "MJD_gmrt_round_astropy_lst: 60297.6875 , MJD_1_gmrt_polyco_lst: 60297.6875\n"
     ]
    }
   ],
   "source": [
    "# LST sustitution  test \n",
    "\n",
    "import datetime\n",
    "import math\n",
    "\n",
    "# Given values\n",
    "#transit_lst_str = \"08:36:09\" #LST transit at afmjd\n",
    "ra_str = \"08h35m20.5554429s\" #RA of Pulsar \n",
    "afmjd =  60298#60268 #60297  # Example value for afmjd(MJD_start)\n",
    "maxha = 6 #  maxha \n",
    "tspan = 60  #  tspan (min)\n",
    "\n",
    "# Observatory coordinates  1656342.30    5797947.77 \n",
    "obs_x =  1656342.30  # Replace with the actual x-coordinate\n",
    "obs_y = 5797947.77 # Replace with the actual y-coordinate\n",
    "\n",
    "# Convert transit LST to datetime\n",
    "#transit_lst_time = datetime.datetime.strptime(transit_lst_str, \"%H:%M:%S\").time()\n",
    "\n",
    "# Convert RA to hours\n",
    "ra_hours = (8 + (35/60) + (20.5554429/3600))\n",
    "\n",
    "# Conversion of UT into local sidereal time\n",
    "solsid = 1.002737909\n",
    "\n",
    "#  LST transit in hours (taken from the NCRA transit time calculator)\n",
    "#hlst_gmrt = transit_lst_time.hour + transit_lst_time.minute/60 + transit_lst_time.second/3600 \n",
    "\n",
    "# Calculate observatory longitude\n",
    "alng = math.atan2(-obs_y, obs_x)\n",
    "\n",
    "# Conversion of UT into local sidereal time\n",
    "solsid = 1.002737909\n",
    "hlst = 10.825430  #Substituting the lst calculated using astropy           #24.0 * ((solsid * afmjd + 0.154374 - alng / (2 * math.pi)) % 1.0)\n",
    "\n",
    " \n",
    "rax = int(ra_hours) + int((ra_hours - int(ra_hours)) * 60.0 + 2) / 60.0 #RA in hours at epoch\n",
    "\n",
    "wait_gmrt = (rax - hlst ) / solsid #GMRT # Calculate wait : Local hour angle\n",
    "\n",
    "# Add a day if wait is not in range #This is polyco criterion which takes care of rise and setting of source\n",
    "if wait_gmrt < -maxha:\n",
    "    wait_gmrt += 24.0/solsid\n",
    "\n",
    "# Calculate MJD1\n",
    "mjd1_gmrt = afmjd + (wait_gmrt - (maxha)) / 24.0 + (tspan / (2.0 * 1440.0)) \n",
    "#mjd1_gmrt_new = afmjd + ((rax - 24.0 * ((solsid * afmjd + 0.154374 - alng / (2 * math.pi)) % 1.0)) - maxha) / 24.0 + tspan / (2.0 * 1440.0)\n",
    "\n",
    "mjd1_gmrt_frac = round(48.0 * (mjd1_gmrt - int(mjd1_gmrt))) / 48.0\n",
    "mjd1_gmrt_frac_new = round(48.0 * (mjd1_gmrt - int(mjd1_gmrt))) / 48.0\n",
    "ntmp1 = int(mjd1_gmrt_frac * 1.0e8)\n",
    "ntmp2 = int((mjd1_gmrt_frac * 1.0e8 - ntmp1) * 100.0)\n",
    "mjd1 = ntmp2 * 1e-10 + ntmp1 * 1.0e-8\n",
    "mjd1_gmrt_frac=mjd1\n",
    "mjd1_gmrt_round_astropy_lst = int(mjd1_gmrt) + mjd1_gmrt_frac#round(48.0 * (mjd1_gmrt - int(mjd1_gmrt))) / 48.0\n",
    "#mjd1_gmrt_round_new = int(mjd1_gmrt_new) + mjd1_gmrt_frac_new\n",
    "print(f\"MJD_gmrt_round_astropy_lst: {mjd1_gmrt_round_astropy_lst} , MJD_1_gmrt_polyco_lst: {mjd1_gmrt_round}\")"
   ]
  },
  {
   "cell_type": "markdown",
   "metadata": {},
   "source": [
    "Test 2 : Transit LST  \n",
    "It is clear from above that we cannot get afmjd by solving the equation to get mjd_grmt_1 as it is non-linear . However we may try to see get the afmjd at the transit where the HA=0 and the LST = RA so majority of the parameters are trivial\n",
    "\n",
    "at TRANSIT :\n",
    "wait = 0 #Local hour angle \n",
    "hlst = rax\n",
    "\n",
    "mjd1_gmrt = afmjd + (wait_gmrt - (maxha)) / 24.0 + (tspan / (2.0 * 1440.0)) \n",
    "mjd1_gmrt = afmjd + (maxha) / 24.0 + (tspan / (2.0 * 1440.0)) \n",
    "afmjd = mjd1_gmrt - (maxha) / 24.0 + (tspan / (2.0 * 1440.0)) "
   ]
  },
  {
   "cell_type": "code",
   "execution_count": 141,
   "metadata": {},
   "outputs": [
    {
     "name": "stdout",
     "output_type": "stream",
     "text": [
      "Latitude: 19.093003 degrees\n",
      "Longitude: 74.056561 degrees\n",
      "Elevation: 497.00 meters\n",
      "Local Sidereal Time: 10.825430 hourangle hours\n",
      "hlst given by polyco: 8.406038785062265 hrs\n",
      "Transit LST from astropy: 8.589043178583333\n"
     ]
    }
   ],
   "source": [
    "afmjd = 60298\n",
    "\n",
    "\n",
    "# Given geocentric coordinates GMRT from observatory.dat in tempo2 \n",
    "obs_x = 1656342.30 * u.m  # x-coordinate in meters\n",
    "obs_y = 5797947.77 * u.m  # y-coordinate in meters\n",
    "obs_z = 2073243.16 * u.m  # z-coordinate in meters\n",
    "\n",
    "\n",
    "# Create EarthLocation object from geocentric coordinates\n",
    "obs_location = EarthLocation.from_geocentric(x=obs_x, y=obs_y, z=obs_z)\n",
    "\n",
    "# Astropy Time object\n",
    "time_utc = Time(afmjd, format='mjd', scale='utc')\n",
    "\n",
    "# Calculate LST using Astropy\n",
    "lst = time_utc.sidereal_time('mean', longitude=obs_location.lon)\n",
    "\n",
    "# Get geodetic coordinates\n",
    "latitude = obs_location.lat.deg\n",
    "longitude = obs_location.lon.deg\n",
    "elevation = obs_location.height.value\n",
    "\n",
    "# Calculate Hour Angle at transit\n",
    "ha_at_transit = lst.hour - ra_hours\n",
    "\n",
    "# Normalize Hour Angle\n",
    "transit_lst = lst.hour - ha_at_transit\n",
    "transit_lst = (transit_lst) # Normalize to [0, 24) hours\n",
    "\n",
    "\n",
    "# Print the results\n",
    "print(f\"Latitude: {latitude:.6f} degrees\")\n",
    "print(f\"Longitude: {longitude:.6f} degrees\")\n",
    "print(f\"Elevation: {elevation:.2f} meters\")\n",
    "print(f\"Local Sidereal Time: {lst:.6f} hours\")\n",
    "print(f\"hlst given by polyco: {hlst} hrs\")\n",
    "#print(f\"hlst_gmrt from GMRT transit:{hlst_gmrt} hrs\")\n",
    "print(f\"Transit LST from astropy: {transit_lst}\")"
   ]
  },
  {
   "cell_type": "code",
   "execution_count": 24,
   "metadata": {},
   "outputs": [
    {
     "name": "stdout",
     "output_type": "stream",
     "text": [
      "2023-12-20 00:00:00\n"
     ]
    },
    {
     "data": {
      "text/plain": [
       "60298.3584375"
      ]
     },
     "execution_count": 24,
     "metadata": {},
     "output_type": "execute_result"
    }
   ],
   "source": [
    "from astropy.coordinates import EarthLocation, AltAz, SkyCoord\n",
    "from astropy.time import Time\n",
    "import astropy.units as u\n",
    "\n",
    "#This is just the opposite (lazy)\n",
    "mjd = 60298\n",
    "time_object = Time(mjd, format='mjd')\n",
    "datetime_object = time_object.datetime\n",
    "print(datetime_object) #Date and time : UTC \n",
    "\n",
    "\n",
    "observation_date = '2023-12-20T08:36:09'\n",
    "observation_time = Time(observation_date,scale='utc')\n",
    "observation_time.mjd #get obstime in MJD "
   ]
  },
  {
   "cell_type": "code",
   "execution_count": 101,
   "metadata": {},
   "outputs": [
    {
     "name": "stdout",
     "output_type": "stream",
     "text": [
      "2023-12-19 21:36:00.086400\n"
     ]
    }
   ],
   "source": [
    "mjd = 60297.900001\n",
    "time_object = Time(mjd, format='mjd')\n",
    "datetime_object = time_object.datetime\n",
    "print(datetime_object) #Date and time : UTC "
   ]
  },
  {
   "cell_type": "code",
   "execution_count": 116,
   "metadata": {},
   "outputs": [
    {
     "name": "stdout",
     "output_type": "stream",
     "text": [
      "MJD_gmrt_round: 60297.6875\n"
     ]
    }
   ],
   "source": [
    "#Working Code that just recalculates mjd_start value from polyco \n",
    "\n",
    "import datetime\n",
    "import math\n",
    "\n",
    "# Given values\n",
    "#transit_lst_str = \"08:36:09\" #LST transit at afmjd\n",
    "ra_str = \"08h35m20.5554429s\" #RA of Pulsar \n",
    "afmjd =  60298.08311218355902636#60268 #60297  # Example value for afmjd(MJD_start)\n",
    "maxha = 6 #  maxha \n",
    "tspan = 60  #  tspan (min)\n",
    "\n",
    "# Observatory coordinates  1656342.30    5797947.77 \n",
    "obs_x =  1656342.30  # Replace with the actual x-coordinate\n",
    "obs_y = 5797947.77 # Replace with the actual y-coordinate\n",
    "\n",
    "# Convert transit LST to datetime\n",
    "#transit_lst_time = datetime.datetime.strptime(transit_lst_str, \"%H:%M:%S\").time()\n",
    "\n",
    "# Convert RA to hours\n",
    "ra_hours = (8 + (35/60) + (20.5554429/3600))\n",
    "\n",
    "# Conversion of UT into local sidereal time\n",
    "solsid = 1.002737909\n",
    "\n",
    "#  LST transit in hours (taken from the NCRA transit time calculator)\n",
    "#hlst_gmrt = transit_lst_time.hour + transit_lst_time.minute/60 + transit_lst_time.second/3600 \n",
    "\n",
    "# Calculate observatory longitude\n",
    "alng = math.atan2(-obs_y, obs_x)\n",
    "\n",
    "# Conversion of UT into local sidereal time\n",
    "solsid = 1.002737909\n",
    "hlst = 24.0 * ((solsid * afmjd + 0.154374 - alng / (2 * math.pi)) % 1.0)\n",
    "\n",
    " \n",
    "rax = int(ra_hours) + int((ra_hours - int(ra_hours)) * 60.0 + 2) / 60.0 #RA in hours at epoch\n",
    "\n",
    "wait_gmrt = (rax - hlst ) / solsid #GMRT # Calculate wait : Local hour angle\n",
    "\n",
    "# Add a day if wait is not in range #This is polyco criterion which takes care of rise and setting of source\n",
    "if wait_gmrt < -maxha:\n",
    "    wait_gmrt += 24.0/solsid\n",
    "\n",
    "# Calculate MJD1\n",
    "mjd1_gmrt = afmjd + (wait_gmrt - (maxha)) / 24.0 + (tspan / (2.0 * 1440.0)) \n",
    "#mjd1_gmrt_new = afmjd + ((rax - 24.0 * ((solsid * afmjd + 0.154374 - alng / (2 * math.pi)) % 1.0)) - maxha) / 24.0 + tspan / (2.0 * 1440.0)\n",
    "\n",
    "mjd1_gmrt_frac = round(48.0 * (mjd1_gmrt - int(mjd1_gmrt))) / 48.0\n",
    "mjd1_gmrt_frac_new = round(48.0 * (mjd1_gmrt - int(mjd1_gmrt))) / 48.0\n",
    "ntmp1 = int(mjd1_gmrt_frac * 1.0e8)\n",
    "ntmp2 = int((mjd1_gmrt_frac * 1.0e8 - ntmp1) * 100.0)\n",
    "mjd1 = ntmp2 * 1e-10 + ntmp1 * 1.0e-8\n",
    "mjd1_gmrt_frac=mjd1\n",
    "mjd1_gmrt_round = int(mjd1_gmrt) + mjd1_gmrt_frac#round(48.0 * (mjd1_gmrt - int(mjd1_gmrt))) / 48.0\n",
    "#mjd1_gmrt_round_new = int(mjd1_gmrt_new) + mjd1_gmrt_frac_new\n",
    "print(f\"MJD_gmrt_round: {mjd1_gmrt_round}\")"
   ]
  },
  {
   "cell_type": "code",
   "execution_count": 135,
   "metadata": {},
   "outputs": [
    {
     "name": "stdout",
     "output_type": "stream",
     "text": [
      "MJD_gmrt_round: 60297.6875\n"
     ]
    }
   ],
   "source": [
    "#Working Code that just recalculates mjd_start value from polyco \n",
    "\n",
    "import datetime\n",
    "import math\n",
    "\n",
    "# Given values\n",
    "transit_lst_str = \"08:36:09\" #LST transit at afmjd\n",
    "ra_str = \"08h35m20.5554429s\" #RA of Pulsar \n",
    "afmjd = 60297.90000185 #60268 #60297  # Example value for afmjd(MJD_start)\n",
    "maxha = 6 #  maxha \n",
    "tspan = 60  #  tspan (min)\n",
    "\n",
    "# Observatory coordinates  1656342.30    5797947.77 \n",
    "obs_x =  1656342.30  # Replace with the actual x-coordinate\n",
    "obs_y = 5797947.77 # Replace with the actual y-coordinate\n",
    "\n",
    "# Convert transit LST to datetime\n",
    "transit_lst_time = datetime.datetime.strptime(transit_lst_str, \"%H:%M:%S\").time()\n",
    "\n",
    "# Convert RA to hours\n",
    "ra_hours = (8 + (35/60) + (20.5554429/3600))\n",
    "\n",
    "# Conversion of UT into local sidereal time\n",
    "solsid = 1.002737909\n",
    "\n",
    "#  LST transit in hours (taken from the NCRA transit time calculator)\n",
    "hlst_gmrt = transit_lst_time.hour + transit_lst_time.minute/60 + transit_lst_time.second/3600 \n",
    "\n",
    "# Calculate observatory longitude\n",
    "alng = math.atan2(-obs_y, obs_x)\n",
    "\n",
    "# Conversion of UT into local sidereal time\n",
    "solsid = 1.002737909\n",
    "hlst = 24.0 * ((solsid * afmjd + 0.154374 - alng / (2 * math.pi)) % 1.0)\n",
    "\n",
    " \n",
    "rax = int(ra_hours) + int((ra_hours - int(ra_hours)) * 60.0 + 2) / 60.0\n",
    "\n",
    "wait_gmrt = (rax - hlst ) / solsid #GMRT # Calculate wait : Local hour angle\n",
    "\n",
    "# Add a day if wait is not in range #This is polyco criterion \n",
    "if wait_gmrt < -maxha:\n",
    "    wait_gmrt += 24.0/solsid\n",
    "\n",
    "# Calculate MJD1\n",
    "mjd1_gmrt = afmjd + (wait_gmrt - (maxha)) / 24.0 + (tspan / (2.0 * 1440.0)) #- 0.008248211156023899\n",
    "mjd1_gmrt_new = afmjd + ((rax - 24.0 * ((solsid * afmjd + 0.154374 - alng / (2 * math.pi)) % 1.0)) - maxha) / 24.0 + tspan / (2.0 * 1440.0)\n",
    "\n",
    "mjd1_gmrt_frac = round(48.0 * (mjd1_gmrt - int(mjd1_gmrt))) / 48.0\n",
    "mjd1_gmrt_frac_new = round(48.0 * (mjd1_gmrt - int(mjd1_gmrt))) / 48.0\n",
    "ntmp1 = int(mjd1_gmrt_frac * 1.0e8)\n",
    "ntmp2 = int((mjd1_gmrt_frac * 1.0e8 - ntmp1) * 100.0)\n",
    "mjd1 = ntmp2 * 1e-10 + ntmp1 * 1.0e-8\n",
    "mjd1_gmrt_frac=mjd1\n",
    "mjd1_gmrt_round = int(mjd1_gmrt) + mjd1_gmrt_frac#round(48.0 * (mjd1_gmrt - int(mjd1_gmrt))) / 48.0\n",
    "mjd1_gmrt_round_new = int(mjd1_gmrt_new) + mjd1_gmrt_frac_new\n",
    "print(f\"MJD_gmrt_round: {mjd1_gmrt_round}\")"
   ]
  },
  {
   "cell_type": "code",
   "execution_count": 138,
   "metadata": {},
   "outputs": [
    {
     "data": {
      "text/plain": [
       "8.406038785062265"
      ]
     },
     "execution_count": 138,
     "metadata": {},
     "output_type": "execute_result"
    }
   ],
   "source": [
    "hlst"
   ]
  },
  {
   "cell_type": "code",
   "execution_count": 96,
   "metadata": {},
   "outputs": [
    {
     "data": {
      "text/plain": [
       "8.616666666666667"
      ]
     },
     "execution_count": 96,
     "metadata": {},
     "output_type": "execute_result"
    }
   ],
   "source": [
    "rax"
   ]
  },
  {
   "cell_type": "code",
   "execution_count": 97,
   "metadata": {},
   "outputs": [
    {
     "data": {
      "text/plain": [
       "-0.1883028282757363"
      ]
     },
     "execution_count": 97,
     "metadata": {},
     "output_type": "execute_result"
    }
   ],
   "source": [
    "wait_gmrt"
   ]
  },
  {
   "cell_type": "code",
   "execution_count": 100,
   "metadata": {},
   "outputs": [
    {
     "name": "stdout",
     "output_type": "stream",
     "text": [
      "0.03562757147547888\n",
      "60296.910000000185\n",
      "-0.029902833188359526\n",
      "60297.91000000039\n",
      "-0.09543323767805174\n",
      "60298.91000000059\n"
     ]
    }
   ],
   "source": [
    "#Test to check transit MJD\n",
    "import datetime\n",
    "import math\n",
    "import numpy as np \n",
    "def calculate_wait(afmjd, maxha, tspan, obs_x, obs_y, transit_lst_str):\n",
    "    #transit_lst_time = datetime.datetime.strptime(transit_lst_str, \"%H:%M:%S\").time()\n",
    "    ra_hours = (8 + (35 / 60) + (20.5554429 / 3600))\n",
    "    solsid = 1.002737909\n",
    "    hlst = 24.0 * ((solsid * afmjd + 0.154374 - math.atan2(-obs_y, obs_x) / (2 * math.pi)) % 1.0)\n",
    "    rax = int(ra_hours) + int((ra_hours - int(ra_hours)) * 60.0 + 2) / 60.0\n",
    "    wait = (rax - hlst) / solsid\n",
    "    if wait < -maxha:\n",
    "        wait += 24.0 / solsid\n",
    "    return wait\n",
    "\n",
    "# Given values\n",
    "#transit_lst_str = \"08:36:09\"\n",
    "maxha = 6\n",
    "tspan = 60\n",
    "obs_x = 1656342.30\n",
    "obs_y = 5797947.77\n",
    "\n",
    "# Range for afmjd\n",
    "afmjd_start = 60297.0\n",
    "afmjd_end = 60300.0\n",
    "afmjd_step = 0.001\n",
    "mjd_range = np.arange(60296.0,60299.0,0.01)\n",
    "afmjd_zero_wait = None\n",
    "\n",
    "for afmjd in range(len(mjd_range)):\n",
    "    wait_gmrt = calculate_wait(mjd_range[afmjd], maxha, tspan, obs_x, obs_y, transit_lst_str)\n",
    "    #print(wait_gmrt)\n",
    "    if abs(wait_gmrt) < 1e-1:\n",
    "        print(wait_gmrt)\n",
    "        print(mjd_range[afmjd])\n",
    "        "
   ]
  },
  {
   "cell_type": "code",
   "execution_count": 39,
   "metadata": {},
   "outputs": [
    {
     "name": "stdout",
     "output_type": "stream",
     "text": [
      "Transit LST: 8.589043178583333\n"
     ]
    }
   ],
   "source": [
    "from astropy.time import Time\n",
    "from astropy.coordinates import EarthLocation\n",
    "\n",
    "# Observer's geocentric coordinates (replace with your values)\n",
    "obs_x = 1656342.30 * u.m  # x-coordinate in meters\n",
    "obs_y = 5797947.77 * u.m  # y-coordinate in meters\n",
    "obs_z = 2073243.16 * u.m  # z-coordinate in meters\n",
    "\n",
    "# Calculate Hour Angle at transit\n",
    "transit_lst = ra_hours\n",
    "\n",
    "# Normalize Hour Angle\n",
    "#transit_lst = lst.hour - ha_at_transit\n",
    "#transit_lst = transit_lst.wrap_at(24 * u.hourangle)  # Normalize to [0, 24) hours\n",
    "\n",
    "print(f\"Transit LST: {transit_lst}\")\n"
   ]
  }
 ],
 "metadata": {
  "kernelspec": {
   "display_name": "base",
   "language": "python",
   "name": "python3"
  },
  "language_info": {
   "codemirror_mode": {
    "name": "ipython",
    "version": 3
   },
   "file_extension": ".py",
   "mimetype": "text/x-python",
   "name": "python",
   "nbconvert_exporter": "python",
   "pygments_lexer": "ipython3",
   "version": "3.11.4"
  }
 },
 "nbformat": 4,
 "nbformat_minor": 2
}
