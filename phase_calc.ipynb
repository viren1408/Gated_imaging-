{
 "cells": [
  {
   "cell_type": "code",
   "execution_count": 14,
   "metadata": {},
   "outputs": [
    {
     "name": "stdout",
     "output_type": "stream",
     "text": [
      "Pulsar: 0835-4510, MJD: 57400.4880769531, Phase: 1042953320.5460346, Frequency: 11.402404885789869 Hz\n",
      "Pulsar: 0835-4510, MJD: 57400.4880769531, Phase: 973044009.7375541, Frequency: 11.034689490134102 Hz\n",
      "Pulsar: 0835-4510, MJD: 57400.4880769531, Phase: 939993335.8245437, Frequency: 10.860840029151998 Hz\n",
      "Pulsar: 0835-4510, MJD: 57400.4880769531, Phase: 992972384.5859492, Frequency: 11.139531351835744 Hz\n",
      "Pulsar: 0835-4510, MJD: 57400.4880769531, Phase: 1053032381.5455256, Frequency: 11.455484016444736 Hz\n",
      "Pulsar: 0835-4510, MJD: 57400.4880769531, Phase: 1042155618.0371095, Frequency: 11.39826210014328 Hz\n",
      "Pulsar: 0835-4510, MJD: 57400.4880769531, Phase: 972019353.51279, Frequency: 11.029269138040522 Hz\n",
      "Pulsar: 0835-4510, MJD: 57400.4880769531, Phase: 940082005.4032538, Frequency: 10.861237751389213 Hz\n",
      "Pulsar: 0835-4510, MJD: 57400.4880769531, Phase: 993857640.2498965, Frequency: 11.144183699289062 Hz\n",
      "Pulsar: 0835-4510, MJD: 57400.4880769531, Phase: 1053212448.1254424, Frequency: 11.4564975741937 Hz\n"
     ]
    }
   ],
   "source": [
    "import pandas as pd\n",
    "import numpy as np\n",
    "\n",
    "def calculate_phase_and_frequency(mjd, tmid, rphase, coeff1, coeff2, coeff3,f0):\n",
    "    # Calculate the time difference in minutes\n",
    "    dt = (mjd - tmid) * 1440\n",
    "\n",
    "    # Calculate phase\n",
    "    phase = rphase + dt * 60 * f0 + coeff1 + dt * coeff2 + dt**2 * coeff3\n",
    "\n",
    "    # Calculate frequency in Hz\n",
    "    freq = f0+ (1 / 60) * (coeff2 + 2 * dt * coeff3)\n",
    "\n",
    "    return phase, freq\n",
    "\n",
    "# Read data from the file using Pandas\n",
    "file_path = 'coeff_data.dat'  # Replace with the actual path to your file\n",
    "\n",
    "# Assuming your file has a header and is space-separated\n",
    "df = pd.read_csv(file_path, delim_whitespace=True, comment='#', names=['Pulsar', 'TMID', 'RPHASE', 'COEFF1', 'COEFF2', 'COEFF3'],skiprows=1)\n",
    "# Example usage\n",
    "mjd_input = 57400.48807695310369326  # Replace with the desired MJD value\n",
    "f0 = 11.188233045354\n",
    "for index, row in df.iterrows():\n",
    "    psrname, tmid, rphase, coeff1, coeff2, coeff3 = row\n",
    "    phase, freq = calculate_phase_and_frequency(mjd_input, tmid, rphase, coeff1, coeff2, coeff3,f0)\n",
    "    \n",
    "    print(f\"Pulsar: {psrname}, MJD: {mjd_input}, Phase: {phase}, Frequency: {freq} Hz\")\n"
   ]
  }
 ],
 "metadata": {
  "kernelspec": {
   "display_name": "Python 3",
   "language": "python",
   "name": "python3"
  },
  "language_info": {
   "codemirror_mode": {
    "name": "ipython",
    "version": 3
   },
   "file_extension": ".py",
   "mimetype": "text/x-python",
   "name": "python",
   "nbconvert_exporter": "python",
   "pygments_lexer": "ipython3",
   "version": "3.10.12"
  }
 },
 "nbformat": 4,
 "nbformat_minor": 2
}
